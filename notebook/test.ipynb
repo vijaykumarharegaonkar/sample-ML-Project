{
 "cells": [
  {
   "cell_type": "code",
   "execution_count": 1,
   "metadata": {},
   "outputs": [],
   "source": [
    "import os\n",
    "import pandas as pd\n",
    "import seaborn as sns\n",
    "CURR_DIR = \"/mnt/d/community_class/insurance_premium\"\n",
    "os.chdir(CURR_DIR)\n",
    "data_file_path=\"dataset/insurance.csv\"\n",
    "import logging\n",
    "logger =logging.getLogger()\n",
    "logger.setLevel(logging.DEBUG) \n"
   ]
  },
  {
   "cell_type": "code",
   "execution_count": 2,
   "metadata": {},
   "outputs": [],
   "source": [
    "from src.preprocessor import Transformer"
   ]
  },
  {
   "cell_type": "code",
   "execution_count": 4,
   "metadata": {},
   "outputs": [],
   "source": [
    "transform_dataset = Transformer(dataset_path=data_file_path)"
   ]
  },
  {
   "cell_type": "code",
   "execution_count": 5,
   "metadata": {},
   "outputs": [
    {
     "name": "stderr",
     "output_type": "stream",
     "text": [
      "DEBUG:root:Transformer object: ColumnTransformer(transformers=[('one_hot',\n",
      "                                 Pipeline(steps=[('one_hot', OneHotEncoder())]),\n",
      "                                 ['region']),\n",
      "                                ('ordinal',\n",
      "                                 Pipeline(steps=[('one_hot',\n",
      "                                                  OrdinalEncoder())]),\n",
      "                                 ['sex', 'smoker']),\n",
      "                                ('numerical',\n",
      "                                 Pipeline(steps=[('standard_scaler',\n",
      "                                                  StandardScaler())]),\n",
      "                                 ['age', 'bmi', 'children'])])\n",
      "DEBUG:root:Dataset shape: (1338, 7)\n",
      "DEBUG:root:Input feature shape: (1338, 9)\n",
      "DEBUG:root:Target feature shape: (1338,)\n",
      "DEBUG:root:Train dataset shape: {'input': (1083, 9), 'target': (1083,)}\n",
      "DEBUG:root:Validation dataset shape: {'input': (134, 9), 'target': (134,)}\n",
      "DEBUG:root:Testing dataset shape: {'input': (121, 9), 'target': (121,)}\n"
     ]
    }
   ],
   "source": [
    "dataset = transform_dataset()"
   ]
  },
  {
   "cell_type": "code",
   "execution_count": null,
   "metadata": {},
   "outputs": [],
   "source": []
  },
  {
   "cell_type": "code",
   "execution_count": 7,
   "metadata": {},
   "outputs": [],
   "source": [
    "import pandas as pd"
   ]
  },
  {
   "cell_type": "code",
   "execution_count": 8,
   "metadata": {},
   "outputs": [],
   "source": [
    "\n",
    "\n",
    "\n",
    "from pydantic import BaseModel\n",
    "\n",
    "class CustomerDetail(BaseModel):\n",
    "    \"\"\"\n",
    "    age: 19\n",
    "    sex: Male\n",
    "\n",
    "    \"\"\"\n",
    "    age:int=19\n",
    "    sex:str=\"female\"\n",
    "    bmi:float=21.04\n",
    "    children:int=0\n",
    "    smoker:str=\"yes\"\n",
    "    region:str=\"southwest\"\n",
    "\n",
    "    \n",
    "    def to_df(self):\n",
    "        print(self.__dict__)\n",
    "        rows = [self.__dict__.values()]\n",
    "        columns = self.__dict__.keys()\n",
    "        return pd.DataFrame(data=rows,columns=columns)\n",
    "\n",
    "\n"
   ]
  },
  {
   "cell_type": "code",
   "execution_count": 9,
   "metadata": {},
   "outputs": [],
   "source": [
    "c = CustomerDetail()"
   ]
  },
  {
   "cell_type": "code",
   "execution_count": 10,
   "metadata": {},
   "outputs": [
    {
     "name": "stdout",
     "output_type": "stream",
     "text": [
      "{'age': 19, 'sex': 'female', 'bmi': 21.04, 'children': 0, 'smoker': 'yes', 'region': 'southwest'}\n"
     ]
    },
    {
     "data": {
      "text/html": [
       "<div>\n",
       "<style scoped>\n",
       "    .dataframe tbody tr th:only-of-type {\n",
       "        vertical-align: middle;\n",
       "    }\n",
       "\n",
       "    .dataframe tbody tr th {\n",
       "        vertical-align: top;\n",
       "    }\n",
       "\n",
       "    .dataframe thead th {\n",
       "        text-align: right;\n",
       "    }\n",
       "</style>\n",
       "<table border=\"1\" class=\"dataframe\">\n",
       "  <thead>\n",
       "    <tr style=\"text-align: right;\">\n",
       "      <th></th>\n",
       "      <th>age</th>\n",
       "      <th>sex</th>\n",
       "      <th>bmi</th>\n",
       "      <th>children</th>\n",
       "      <th>smoker</th>\n",
       "      <th>region</th>\n",
       "    </tr>\n",
       "  </thead>\n",
       "  <tbody>\n",
       "    <tr>\n",
       "      <th>0</th>\n",
       "      <td>19</td>\n",
       "      <td>female</td>\n",
       "      <td>21.04</td>\n",
       "      <td>0</td>\n",
       "      <td>yes</td>\n",
       "      <td>southwest</td>\n",
       "    </tr>\n",
       "  </tbody>\n",
       "</table>\n",
       "</div>"
      ],
      "text/plain": [
       "   age     sex    bmi  children smoker     region\n",
       "0   19  female  21.04         0    yes  southwest"
      ]
     },
     "execution_count": 10,
     "metadata": {},
     "output_type": "execute_result"
    }
   ],
   "source": [
    "c.to_df()"
   ]
  },
  {
   "cell_type": "code",
   "execution_count": null,
   "metadata": {},
   "outputs": [],
   "source": []
  }
 ],
 "metadata": {
  "kernelspec": {
   "display_name": "Python 3.8.0 (conda)",
   "language": "python",
   "name": "python3"
  },
  "language_info": {
   "codemirror_mode": {
    "name": "ipython",
    "version": 3
   },
   "file_extension": ".py",
   "mimetype": "text/x-python",
   "name": "python",
   "nbconvert_exporter": "python",
   "pygments_lexer": "ipython3",
   "version": "3.8.0"
  },
  "orig_nbformat": 4,
  "vscode": {
   "interpreter": {
    "hash": "77c8f06ca86fd88b5e983f1251e957a905a7df97acc69f7513d4cb6222fff4bc"
   }
  }
 },
 "nbformat": 4,
 "nbformat_minor": 2
}
